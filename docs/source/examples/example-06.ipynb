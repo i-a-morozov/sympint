{
 "cells": [
  {
   "attachments": {},
   "cell_type": "markdown",
   "id": "556562f3-8ece-4517-8c93-ee5e2fc29131",
   "metadata": {},
   "source": [
    "# Example-07: Reverse and forward differentiation modes"
   ]
  },
  {
   "cell_type": "code",
   "execution_count": 1,
   "id": "0a4a4fd5-660e-4786-acb6-ac499c85b8a9",
   "metadata": {},
   "outputs": [],
   "source": [
    "# By default jax.grad (reverse mode) is used to setuo equations for given hamiltonian\n",
    "# Alternativly, jax.facrev and jax.jacfwd can be passed\n",
    "# When computing derivatives, it is more optimal to nest fwd and inv methods"
   ]
  },
  {
   "cell_type": "code",
   "execution_count": 2,
   "id": "9b98358d-1243-4661-af65-9356d4615fbf",
   "metadata": {},
   "outputs": [],
   "source": [
    "# Import\n",
    "\n",
    "import jax\n",
    "from jax import jit\n",
    "from jax import grad\n",
    "from jax import jacrev\n",
    "from jax import jacfwd\n",
    "\n",
    "# Function iterations\n",
    "\n",
    "from sympint import nest\n",
    "from sympint import fold\n",
    "\n",
    "# Yoshida composition\n",
    "\n",
    "from sympint import sequence\n",
    "\n",
    "# Tao integrator\n",
    "\n",
    "from sympint import tao"
   ]
  },
  {
   "cell_type": "code",
   "execution_count": 3,
   "id": "21699a84-9a85-4f98-a84e-cb5991edee7f",
   "metadata": {},
   "outputs": [],
   "source": [
    "# Set data type\n",
    "\n",
    "jax.config.update(\"jax_enable_x64\", True)"
   ]
  },
  {
   "cell_type": "code",
   "execution_count": 4,
   "id": "d2dd9391-9d5f-4ffb-9c45-1131fd3f4408",
   "metadata": {},
   "outputs": [],
   "source": [
    "# Set device\n",
    "\n",
    "device, *_ = jax.devices('cpu')\n",
    "jax.config.update('jax_default_device', device)"
   ]
  },
  {
   "cell_type": "code",
   "execution_count": 5,
   "id": "6d944d1f-a809-4590-9dad-eb98ddc75f40",
   "metadata": {},
   "outputs": [],
   "source": [
    "# Define hamiltonian function\n",
    "\n",
    "def h(qs, ps, t, b, *args):\n",
    "    q_x, q_y, q_s = qs\n",
    "    p_x, p_y, p_s = ps\n",
    "    return p_s - jax.numpy.sqrt((p_s + 1)**2 - (p_x + b/2*q_y)**2 - (p_y - b/2*q_x)**2)"
   ]
  },
  {
   "cell_type": "code",
   "execution_count": 6,
   "id": "27c510d8-3ceb-4682-a941-4efb3c5389e7",
   "metadata": {},
   "outputs": [],
   "source": [
    "# Parameters and initial condition\n",
    "\n",
    "dt = jax.numpy.float64(0.01)\n",
    "t = jax.numpy.float64(0.0)\n",
    "b = jax.numpy.float64(0.1)\n",
    "x = jax.numpy.array([0.001, -0.001, 0.0001, 0.0, 0.0, 0.0])"
   ]
  },
  {
   "cell_type": "code",
   "execution_count": 7,
   "id": "f453d8dd-db33-43d3-b5d5-f87502fac04f",
   "metadata": {},
   "outputs": [],
   "source": [
    "# jax.grad\n",
    "\n",
    "integrator = tao(h, gradient=grad)\n",
    "fs = sequence(0, 2, [integrator], merge=False)\n",
    "integrator = fold(fs)\n",
    "step = jit(nest(100, integrator))\n",
    "drev = jit(jacrev(step))\n",
    "dfwd = jit(jacfwd(step))\n",
    "\n",
    "out = step(x, dt, t, b)\n",
    "out = drev(x, dt, t, b)\n",
    "out = dfwd(x, dt, t, b)"
   ]
  },
  {
   "cell_type": "code",
   "execution_count": 8,
   "id": "0868c2f0-9581-4652-bc56-80a06442311a",
   "metadata": {},
   "outputs": [
    {
     "name": "stdout",
     "output_type": "stream",
     "text": [
      "315 µs ± 9.55 µs per loop (mean ± std. dev. of 7 runs, 1,000 loops each)\n",
      "18.5 ms ± 921 µs per loop (mean ± std. dev. of 7 runs, 10 loops each)\n",
      "4.16 ms ± 232 µs per loop (mean ± std. dev. of 7 runs, 100 loops each)\n"
     ]
    }
   ],
   "source": [
    "%timeit out = step(x, dt, t, b).block_until_ready()\n",
    "%timeit out = drev(x, dt, t, b).block_until_ready()\n",
    "%timeit out = dfwd(x, dt, t, b).block_until_ready()"
   ]
  },
  {
   "cell_type": "code",
   "execution_count": 9,
   "id": "023249fe-2ba1-49ab-ae1f-f6086718d9ab",
   "metadata": {},
   "outputs": [
    {
     "name": "stdout",
     "output_type": "stream",
     "text": [
      "[ 9.47585374e-04 -1.04741879e-03  9.99975000e-05 -2.37093954e-06\n",
      "  2.62073131e-06  0.00000000e+00]\n",
      "\n",
      "[[ 9.97502083e-01  4.99167086e-02  0.00000000e+00  9.98334172e-01\n",
      "   4.99583435e-02  5.47418783e-05]\n",
      " [-4.99167086e-02  9.97502083e-01  0.00000000e+00 -4.99583385e-02\n",
      "   9.98334172e-01  4.47585392e-05]\n",
      " [-2.50000002e-06  2.50000002e-06  1.00000000e+00  5.00000004e-05\n",
      "   5.00000004e-05  4.99999988e-09]\n",
      " [-2.49583543e-03 -1.24895880e-04  0.00000000e+00  9.97502082e-01\n",
      "   4.99167085e-02  2.23792682e-06]\n",
      " [ 1.24895892e-04 -2.49583543e-03  0.00000000e+00 -4.99167086e-02\n",
      "   9.97502082e-01 -2.73709404e-06]\n",
      " [ 0.00000000e+00  0.00000000e+00  0.00000000e+00  0.00000000e+00\n",
      "   0.00000000e+00  1.00000000e+00]]\n",
      "\n",
      "[[ 9.97502083e-01  4.99167086e-02  0.00000000e+00  9.98334172e-01\n",
      "   4.99583435e-02  5.47418783e-05]\n",
      " [-4.99167086e-02  9.97502083e-01  0.00000000e+00 -4.99583385e-02\n",
      "   9.98334172e-01  4.47585392e-05]\n",
      " [-2.50000002e-06  2.50000002e-06  1.00000000e+00  5.00000004e-05\n",
      "   5.00000004e-05  5.00000006e-09]\n",
      " [-2.49583543e-03 -1.24895880e-04  0.00000000e+00  9.97502082e-01\n",
      "   4.99167085e-02  2.23792682e-06]\n",
      " [ 1.24895892e-04 -2.49583543e-03  0.00000000e+00 -4.99167086e-02\n",
      "   9.97502082e-01 -2.73709404e-06]\n",
      " [ 0.00000000e+00  0.00000000e+00  0.00000000e+00  0.00000000e+00\n",
      "   0.00000000e+00  1.00000000e+00]]\n",
      "\n"
     ]
    }
   ],
   "source": [
    "print(step(x, dt, t, b))\n",
    "print()\n",
    "\n",
    "print(drev(x, dt, t, b))\n",
    "print()\n",
    "\n",
    "print(dfwd(x, dt, t, b))\n",
    "print()"
   ]
  },
  {
   "cell_type": "code",
   "execution_count": 10,
   "id": "1c45b3e4-7c0d-42d3-9dd9-3e1707ed6c2a",
   "metadata": {},
   "outputs": [],
   "source": [
    "# jax.jacrev\n",
    "\n",
    "integrator = tao(h, gradient=jacrev)\n",
    "fs = sequence(0, 2, [integrator], merge=False)\n",
    "integrator = fold(fs)\n",
    "step = jit(nest(100, integrator))\n",
    "drev = jit(jacrev(step))\n",
    "dfwd = jit(jacfwd(step))\n",
    "\n",
    "out = step(x, dt, t, b)\n",
    "out = drev(x, dt, t, b)\n",
    "out = dfwd(x, dt, t, b)"
   ]
  },
  {
   "cell_type": "code",
   "execution_count": 11,
   "id": "1643c017-c8a4-4bf4-acc9-6cc2f41d326b",
   "metadata": {},
   "outputs": [
    {
     "name": "stdout",
     "output_type": "stream",
     "text": [
      "307 µs ± 2.14 µs per loop (mean ± std. dev. of 7 runs, 1,000 loops each)\n",
      "18.7 ms ± 220 µs per loop (mean ± std. dev. of 7 runs, 100 loops each)\n",
      "1.63 ms ± 89.1 µs per loop (mean ± std. dev. of 7 runs, 1,000 loops each)\n"
     ]
    }
   ],
   "source": [
    "%timeit out = step(x, dt, t, b).block_until_ready()\n",
    "%timeit out = drev(x, dt, t, b).block_until_ready()\n",
    "%timeit out = dfwd(x, dt, t, b).block_until_ready()"
   ]
  },
  {
   "cell_type": "code",
   "execution_count": 12,
   "id": "6d3dc748-490b-4d32-a508-efa2dc361faa",
   "metadata": {},
   "outputs": [
    {
     "name": "stdout",
     "output_type": "stream",
     "text": [
      "[ 9.47585374e-04 -1.04741879e-03  9.99975000e-05 -2.37093954e-06\n",
      "  2.62073131e-06  0.00000000e+00]\n",
      "\n",
      "[[ 9.97502083e-01  4.99167086e-02  0.00000000e+00  9.98334172e-01\n",
      "   4.99583435e-02  5.47418783e-05]\n",
      " [-4.99167086e-02  9.97502083e-01  0.00000000e+00 -4.99583385e-02\n",
      "   9.98334172e-01  4.47585392e-05]\n",
      " [-2.50000002e-06  2.50000002e-06  1.00000000e+00  5.00000004e-05\n",
      "   5.00000004e-05  4.99999988e-09]\n",
      " [-2.49583543e-03 -1.24895880e-04  0.00000000e+00  9.97502082e-01\n",
      "   4.99167085e-02  2.23792682e-06]\n",
      " [ 1.24895892e-04 -2.49583543e-03  0.00000000e+00 -4.99167086e-02\n",
      "   9.97502082e-01 -2.73709404e-06]\n",
      " [ 0.00000000e+00  0.00000000e+00  0.00000000e+00  0.00000000e+00\n",
      "   0.00000000e+00  1.00000000e+00]]\n",
      "\n",
      "[[ 9.97502083e-01  4.99167086e-02  0.00000000e+00  9.98334172e-01\n",
      "   4.99583435e-02  5.47418783e-05]\n",
      " [-4.99167086e-02  9.97502083e-01  0.00000000e+00 -4.99583385e-02\n",
      "   9.98334172e-01  4.47585392e-05]\n",
      " [-2.50000002e-06  2.50000002e-06  1.00000000e+00  5.00000004e-05\n",
      "   5.00000004e-05  5.00000006e-09]\n",
      " [-2.49583543e-03 -1.24895880e-04  0.00000000e+00  9.97502082e-01\n",
      "   4.99167085e-02  2.23792682e-06]\n",
      " [ 1.24895892e-04 -2.49583543e-03  0.00000000e+00 -4.99167086e-02\n",
      "   9.97502082e-01 -2.73709404e-06]\n",
      " [ 0.00000000e+00  0.00000000e+00  0.00000000e+00  0.00000000e+00\n",
      "   0.00000000e+00  1.00000000e+00]]\n",
      "\n"
     ]
    }
   ],
   "source": [
    "print(step(x, dt, t, b))\n",
    "print()\n",
    "\n",
    "print(drev(x, dt, t, b))\n",
    "print()\n",
    "\n",
    "print(dfwd(x, dt, t, b))\n",
    "print()"
   ]
  },
  {
   "cell_type": "code",
   "execution_count": 13,
   "id": "e596fd3a-b64a-4482-8eb8-9e5befb62875",
   "metadata": {},
   "outputs": [],
   "source": [
    "# jax.jacfwd\n",
    "\n",
    "integrator = tao(h, gradient=jacfwd)\n",
    "fs = sequence(0, 2, [integrator], merge=False)\n",
    "integrator = fold(fs)\n",
    "step = jit(nest(100, integrator))\n",
    "drev = jit(jacrev(step))\n",
    "dfwd = jit(jacfwd(step))\n",
    "\n",
    "out = step(x, dt, t, b)\n",
    "out = drev(x, dt, t, b)\n",
    "out = dfwd(x, dt, t, b)"
   ]
  },
  {
   "cell_type": "code",
   "execution_count": 14,
   "id": "b74fd4fc-7756-4b8e-a1bc-6e7cce7e133f",
   "metadata": {},
   "outputs": [
    {
     "name": "stdout",
     "output_type": "stream",
     "text": [
      "371 µs ± 30.4 µs per loop (mean ± std. dev. of 7 runs, 1,000 loops each)\n",
      "17.9 ms ± 425 µs per loop (mean ± std. dev. of 7 runs, 100 loops each)\n",
      "1.51 ms ± 16 µs per loop (mean ± std. dev. of 7 runs, 1,000 loops each)\n"
     ]
    }
   ],
   "source": [
    "%timeit out = step(x, dt, t, b).block_until_ready()\n",
    "%timeit out = drev(x, dt, t, b).block_until_ready()\n",
    "%timeit out = dfwd(x, dt, t, b).block_until_ready()"
   ]
  },
  {
   "cell_type": "code",
   "execution_count": 15,
   "id": "f64496bb-35d4-46dc-a8aa-5b04dcb4cfb8",
   "metadata": {},
   "outputs": [
    {
     "name": "stdout",
     "output_type": "stream",
     "text": [
      "[ 9.47585374e-04 -1.04741879e-03  9.99975000e-05 -2.37093954e-06\n",
      "  2.62073131e-06  0.00000000e+00]\n",
      "\n",
      "[[ 9.97502083e-01  4.99167086e-02  0.00000000e+00  9.98334172e-01\n",
      "   4.99583435e-02  5.47418783e-05]\n",
      " [-4.99167086e-02  9.97502083e-01  0.00000000e+00 -4.99583385e-02\n",
      "   9.98334172e-01  4.47585392e-05]\n",
      " [-2.50000002e-06  2.50000002e-06  1.00000000e+00  5.00000004e-05\n",
      "   5.00000004e-05  4.99999988e-09]\n",
      " [-2.49583543e-03 -1.24895880e-04  0.00000000e+00  9.97502082e-01\n",
      "   4.99167085e-02  2.23792682e-06]\n",
      " [ 1.24895892e-04 -2.49583543e-03  0.00000000e+00 -4.99167086e-02\n",
      "   9.97502082e-01 -2.73709404e-06]\n",
      " [ 0.00000000e+00  0.00000000e+00  0.00000000e+00  0.00000000e+00\n",
      "   0.00000000e+00  1.00000000e+00]]\n",
      "\n",
      "[[ 9.97502083e-01  4.99167086e-02  0.00000000e+00  9.98334172e-01\n",
      "   4.99583435e-02  5.47418783e-05]\n",
      " [-4.99167086e-02  9.97502083e-01  0.00000000e+00 -4.99583385e-02\n",
      "   9.98334172e-01  4.47585392e-05]\n",
      " [-2.50000002e-06  2.50000002e-06  1.00000000e+00  5.00000004e-05\n",
      "   5.00000004e-05  5.00000006e-09]\n",
      " [-2.49583543e-03 -1.24895880e-04  0.00000000e+00  9.97502082e-01\n",
      "   4.99167085e-02  2.23792682e-06]\n",
      " [ 1.24895892e-04 -2.49583543e-03  0.00000000e+00 -4.99167086e-02\n",
      "   9.97502082e-01 -2.73709404e-06]\n",
      " [ 0.00000000e+00  0.00000000e+00  0.00000000e+00  0.00000000e+00\n",
      "   0.00000000e+00  1.00000000e+00]]\n",
      "\n"
     ]
    }
   ],
   "source": [
    "print(step(x, dt, t, b))\n",
    "print()\n",
    "\n",
    "print(drev(x, dt, t, b))\n",
    "print()\n",
    "\n",
    "print(dfwd(x, dt, t, b))\n",
    "print()"
   ]
  }
 ],
 "metadata": {
  "colab": {
   "collapsed_sections": [
    "myt0_gMIOq7b",
    "5d97819c"
   ],
   "name": "03_frequency.ipynb",
   "provenance": []
  },
  "kernelspec": {
   "display_name": "Python 3 (ipykernel)",
   "language": "python",
   "name": "python3"
  },
  "language_info": {
   "codemirror_mode": {
    "name": "ipython",
    "version": 3
   },
   "file_extension": ".py",
   "mimetype": "text/x-python",
   "name": "python",
   "nbconvert_exporter": "python",
   "pygments_lexer": "ipython3",
   "version": "3.12.1"
  },
  "latex_envs": {
   "LaTeX_envs_menu_present": true,
   "autoclose": false,
   "autocomplete": true,
   "bibliofile": "biblio.bib",
   "cite_by": "apalike",
   "current_citInitial": 1,
   "eqLabelWithNumbers": true,
   "eqNumInitial": 1,
   "hotkeys": {
    "equation": "Ctrl-E",
    "itemize": "Ctrl-I"
   },
   "labels_anchors": false,
   "latex_user_defs": false,
   "report_style_numbering": false,
   "user_envs_cfg": false
  }
 },
 "nbformat": 4,
 "nbformat_minor": 5
}
