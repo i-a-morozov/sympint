{
 "cells": [
  {
   "attachments": {},
   "cell_type": "markdown",
   "id": "556562f3-8ece-4517-8c93-ee5e2fc29131",
   "metadata": {},
   "source": [
    "# Example-04: Tao integrator"
   ]
  },
  {
   "cell_type": "code",
   "execution_count": 1,
   "id": "d78e4313-990f-46c2-9401-56c92623e208",
   "metadata": {},
   "outputs": [],
   "source": [
    "# In this example Tao integrator usage is illustrated\n",
    "# Integration step is constructed from a given hamiltonian h(q, p, *args)\n",
    "# The resulting integration step signature is (qp, dt, *args)\n",
    "# Integration step can be used with Yoshida composition and is JAX composable"
   ]
  },
  {
   "cell_type": "code",
   "execution_count": 2,
   "id": "b3d583d2-48d1-4632-ae8f-4ed3ef5c3519",
   "metadata": {},
   "outputs": [],
   "source": [
    "# Import\n",
    "\n",
    "import jax\n",
    "from jax import jit\n",
    "from jax import vmap\n",
    "\n",
    "# Function iterations\n",
    "\n",
    "from sympint import nest\n",
    "from sympint import nest_list\n",
    "\n",
    "from sympint import fold\n",
    "from sympint import fold_list\n",
    "\n",
    "# Yoshida composition\n",
    "\n",
    "from sympint import sequence\n",
    "\n",
    "# Implicit midpoint integrator\n",
    "\n",
    "from sympint import tao\n",
    "\n",
    "# Plotting\n",
    "\n",
    "from matplotlib import pyplot as plt"
   ]
  },
  {
   "cell_type": "code",
   "execution_count": 3,
   "id": "1656edfe-1e2d-4a0c-8287-51a9ee1aaa63",
   "metadata": {},
   "outputs": [],
   "source": [
    "# Set data type\n",
    "\n",
    "jax.config.update(\"jax_enable_x64\", True)"
   ]
  },
  {
   "cell_type": "code",
   "execution_count": 4,
   "id": "4c3b749f-5c21-4cc2-9461-7ae676cd98bc",
   "metadata": {},
   "outputs": [],
   "source": [
    "# Set device\n",
    "\n",
    "device, *_ = jax.devices('cpu')\n",
    "jax.config.update('jax_default_device', device)"
   ]
  },
  {
   "cell_type": "code",
   "execution_count": 5,
   "id": "e7d993f6-a9ce-4e6f-9c82-c148d80cf8f8",
   "metadata": {},
   "outputs": [
    {
     "name": "stdout",
     "output_type": "stream",
     "text": [
      "19\n"
     ]
    },
    {
     "data": {
      "text/plain": [
       "Array([ 0.09446052, -0.06067929], dtype=float64)"
      ]
     },
     "execution_count": 5,
     "metadata": {},
     "output_type": "execute_result"
    }
   ],
   "source": [
    "# Construct Yoshida composition step (multi-map integrator)\n",
    "\n",
    "# H = H1 + H2\n",
    "# H1 = 1/2 q**2 + 1/3 q**3 -> [q, p] -> [q, p - t*q - t*q**2]\n",
    "# H2 = 1/2 p**2            -> [q, p] -> [q + t*q, p]\n",
    "\n",
    "# Set mappings for sovable parts\n",
    "\n",
    "def fn(x, t):\n",
    "    q, p = x\n",
    "    return jax.numpy.stack([q, p - t*(q + q**2)])\n",
    "\n",
    "def gn(x, t):\n",
    "    q, p = x\n",
    "    return jax.numpy.stack([q + t*p, p])\n",
    "\n",
    "# Generate Yoshida sequence\n",
    "\n",
    "fs = sequence(0, 2, [fn, gn], merge=True)\n",
    "print(len(fs))\n",
    "\n",
    "# Generate folded step (sequence composition)\n",
    "\n",
    "integrator = fold(fs)\n",
    "\n",
    "# Set parameters\n",
    "\n",
    "dt = jax.numpy.array(0.01)\n",
    "x = jax.numpy.array([0.1, -0.05])\n",
    "\n",
    "# Compile several integration steps\n",
    "\n",
    "step = jit(nest(10, integrator))\n",
    "xa = step(x, dt)\n",
    "xa"
   ]
  },
  {
   "cell_type": "code",
   "execution_count": 6,
   "id": "198b3cbd-70e3-48b8-83d4-dcece22baa36",
   "metadata": {},
   "outputs": [
    {
     "name": "stdout",
     "output_type": "stream",
     "text": [
      "24.2 µs ± 225 ns per loop (mean ± std. dev. of 7 runs, 10,000 loops each)\n"
     ]
    }
   ],
   "source": [
    "%%timeit\n",
    "\n",
    "step(x, dt)"
   ]
  },
  {
   "cell_type": "code",
   "execution_count": 7,
   "id": "9c2cb8af-5c79-42fc-8d19-1aa5901eadae",
   "metadata": {},
   "outputs": [
    {
     "name": "stdout",
     "output_type": "stream",
     "text": [
      "9\n"
     ]
    },
    {
     "data": {
      "text/plain": [
       "Array([ 0.09446052, -0.06067929], dtype=float64)"
      ]
     },
     "execution_count": 7,
     "metadata": {},
     "output_type": "execute_result"
    }
   ],
   "source": [
    "# Construct Yoshida composition step (tao)\n",
    "\n",
    "# Define hamiltonian function\n",
    "\n",
    "def h(q, p, *args):\n",
    "    return jax.numpy.sum(1/2*(q**2 + p**2) + 1/3*q**3)\n",
    "\n",
    "# Define implicit step\n",
    "\n",
    "integrator = tao(h, binding=0.0)\n",
    "\n",
    "# Generate Yoshida sequence\n",
    "\n",
    "fs = sequence(0, 2, [integrator], merge=False)\n",
    "print(len(fs))\n",
    "\n",
    "# Generate folded step (sequence composition)\n",
    "\n",
    "integrator = fold(fs)\n",
    "\n",
    "# Set parameters\n",
    "\n",
    "dt = jax.numpy.array(0.01)\n",
    "t = jax.numpy.array(0.0)\n",
    "x = jax.numpy.array([0.1, -0.05])\n",
    "\n",
    "# Compile several steps\n",
    "\n",
    "step = jit(nest(10, integrator))\n",
    "xb = step(x, dt, t)\n",
    "xb"
   ]
  },
  {
   "cell_type": "code",
   "execution_count": 8,
   "id": "2632663d-5f58-4637-8af6-8eeb9d938ad1",
   "metadata": {},
   "outputs": [
    {
     "name": "stdout",
     "output_type": "stream",
     "text": [
      "60.9 µs ± 215 ns per loop (mean ± std. dev. of 7 runs, 10,000 loops each)\n"
     ]
    }
   ],
   "source": [
    "%%timeit\n",
    "\n",
    "# Timing\n",
    "\n",
    "step(x, dt, t)"
   ]
  },
  {
   "cell_type": "code",
   "execution_count": 9,
   "id": "2dc921cb-69a7-4184-a776-d2b03b29f3ea",
   "metadata": {},
   "outputs": [
    {
     "data": {
      "text/plain": [
       "Array(True, dtype=bool)"
      ]
     },
     "execution_count": 9,
     "metadata": {},
     "output_type": "execute_result"
    }
   ],
   "source": [
    "# Compare\n",
    "\n",
    "jax.numpy.isclose(jax.numpy.linalg.norm(xa - xb), 0.0)"
   ]
  },
  {
   "cell_type": "code",
   "execution_count": 10,
   "id": "c23717fe-ef5d-451b-b47a-63f3d825cf15",
   "metadata": {},
   "outputs": [
    {
     "data": {
      "image/png": "[encoded data removed]",
      "text/plain": [
       "<Figure size 800x800 with 1 Axes>"
      ]
     },
     "metadata": {},
     "output_type": "display_data"
    }
   ],
   "source": [
    "# Plot several phase space trajectories\n",
    "\n",
    "# Define single orbit generator \n",
    "\n",
    "orbit = jit(nest_list(2**10, step))\n",
    "orbit(x, dt, t)\n",
    "\n",
    "# Generate several orbits\n",
    "\n",
    "qs = jax.numpy.linspace(0.0, 0.5, 21)\n",
    "ps = jax.numpy.zeros_like(qs)\n",
    "xs = jax.numpy.stack([qs, ps]).T\n",
    "\n",
    "trajectories = vmap(orbit, (0, None, None))(xs, dt, t)\n",
    "\n",
    "# Plot orbits\n",
    "\n",
    "plt.figure(figsize=(8, 8))\n",
    "for trajectory in trajectories:\n",
    "    plt.scatter(*trajectory.T, color='black', marker='o', s=1)\n",
    "plt.show()"
   ]
  },
  {
   "cell_type": "code",
   "execution_count": 11,
   "id": "022468d8-cca0-43a9-a8fc-2268b1b03a57",
   "metadata": {},
   "outputs": [
    {
     "data": {
      "text/plain": [
       "Array([[ 0.99994002,  0.0099998 ],\n",
       "       [-0.01199472,  0.99994003]], dtype=float64)"
      ]
     },
     "execution_count": 11,
     "metadata": {},
     "output_type": "execute_result"
    }
   ],
   "source": [
    "# Tao step is differentiable with respect to initial condition and parameters\n",
    "\n",
    "jax.jacrev(integrator)(x, dt, t)"
   ]
  },
  {
   "cell_type": "code",
   "execution_count": 12,
   "id": "206a4aeb-1d3c-416d-80c1-8ec8bc8ebf71",
   "metadata": {},
   "outputs": [],
   "source": [
    "# Batched evaluation with vectorized map"
   ]
  },
  {
   "cell_type": "code",
   "execution_count": 13,
   "id": "8cac6f85-5033-4d50-a9e0-1eac338edb75",
   "metadata": {},
   "outputs": [
    {
     "name": "stdout",
     "output_type": "stream",
     "text": [
      "CPU times: user 1.25 s, sys: 5.99 ms, total: 1.26 s\n",
      "Wall time: 1.15 s\n"
     ]
    },
    {
     "data": {
      "text/plain": [
       "(21, 1024, 2)"
      ]
     },
     "execution_count": 13,
     "metadata": {},
     "output_type": "execute_result"
    }
   ],
   "source": [
    "%%time\n",
    "\n",
    "jax.numpy.stack([orbit(x, dt, t) for x in xs]).shape"
   ]
  },
  {
   "cell_type": "code",
   "execution_count": 14,
   "id": "0e7b8e3e-6abe-4e4e-b716-64d50eb2f8d7",
   "metadata": {},
   "outputs": [
    {
     "name": "stdout",
     "output_type": "stream",
     "text": [
      "CPU times: user 76.4 ms, sys: 1.85 ms, total: 78.3 ms\n",
      "Wall time: 77.1 ms\n"
     ]
    },
    {
     "data": {
      "text/plain": [
       "(21, 1024, 2)"
      ]
     },
     "execution_count": 14,
     "metadata": {},
     "output_type": "execute_result"
    }
   ],
   "source": [
    "%%time\n",
    "\n",
    "vmap(orbit, (0, None, None))(xs, dt, t).shape"
   ]
  },
  {
   "cell_type": "code",
   "execution_count": 15,
   "id": "9f04e996-9da5-440e-aab0-9b057d8992e2",
   "metadata": {},
   "outputs": [
    {
     "data": {
      "text/plain": [
       "(21, 1024, 2)"
      ]
     },
     "execution_count": 15,
     "metadata": {},
     "output_type": "execute_result"
    }
   ],
   "source": [
    "# Compile\n",
    "# Note, changing batch size will trigger a recompile\n",
    "\n",
    "fj = jit(vmap(orbit, (0, None, None)))\n",
    "fj(xs, dt, t).shape"
   ]
  },
  {
   "cell_type": "code",
   "execution_count": 16,
   "id": "ca46f6e1-91da-4c28-905c-d0992281546a",
   "metadata": {},
   "outputs": [
    {
     "name": "stdout",
     "output_type": "stream",
     "text": [
      "CPU times: user 77.8 ms, sys: 871 µs, total: 78.7 ms\n",
      "Wall time: 77.7 ms\n"
     ]
    },
    {
     "data": {
      "text/plain": [
       "(21, 1024, 2)"
      ]
     },
     "execution_count": 16,
     "metadata": {},
     "output_type": "execute_result"
    }
   ],
   "source": [
    "%%time\n",
    "\n",
    "fj(xs, dt, t).shape"
   ]
  }
 ],
 "metadata": {
  "colab": {
   "collapsed_sections": [
    "myt0_gMIOq7b",
    "5d97819c"
   ],
   "name": "03_frequency.ipynb",
   "provenance": []
  },
  "kernelspec": {
   "display_name": "Python 3 (ipykernel)",
   "language": "python",
   "name": "python3"
  },
  "language_info": {
   "codemirror_mode": {
    "name": "ipython",
    "version": 3
   },
   "file_extension": ".py",
   "mimetype": "text/x-python",
   "name": "python",
   "nbconvert_exporter": "python",
   "pygments_lexer": "ipython3",
   "version": "3.12.1"
  },
  "latex_envs": {
   "LaTeX_envs_menu_present": true,
   "autoclose": false,
   "autocomplete": true,
   "bibliofile": "biblio.bib",
   "cite_by": "apalike",
   "current_citInitial": 1,
   "eqLabelWithNumbers": true,
   "eqNumInitial": 1,
   "hotkeys": {
    "equation": "Ctrl-E",
    "itemize": "Ctrl-I"
   },
   "labels_anchors": false,
   "latex_user_defs": false,
   "report_style_numbering": false,
   "user_envs_cfg": false
  }
 },
 "nbformat": 4,
 "nbformat_minor": 5
}
