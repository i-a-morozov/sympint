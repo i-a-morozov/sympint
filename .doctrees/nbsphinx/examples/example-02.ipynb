{
 "cells": [
  {
   "attachments": {},
   "cell_type": "markdown",
   "id": "556562f3-8ece-4517-8c93-ee5e2fc29131",
   "metadata": {},
   "source": [
    "# Example-03: Implicit midpoint integrator"
   ]
  },
  {
   "cell_type": "code",
   "execution_count": 1,
   "id": "3580ad01-3868-4082-b147-fe03e583a5c8",
   "metadata": {},
   "outputs": [],
   "source": [
    "# In this example implicit midpoint integrator usage is illustrated\n",
    "# Integration step is constructed from a given hamiltonian h(q, p, t, *args)\n",
    "# The resulting integration step signature is (qp, dt, t, *args)\n",
    "# Integration step can be used with Yoshida composition and is JAX composable"
   ]
  },
  {
   "cell_type": "code",
   "execution_count": 2,
   "id": "d8ffcc92-1eec-414a-ba56-d5a72246d5c9",
   "metadata": {},
   "outputs": [],
   "source": [
    "# Import\n",
    "\n",
    "import jax\n",
    "from jax import jit\n",
    "from jax import vmap\n",
    "\n",
    "# Function iterations\n",
    "\n",
    "from sympint import nest\n",
    "from sympint import nest_list\n",
    "\n",
    "from sympint import fold\n",
    "from sympint import fold_list\n",
    "\n",
    "# Yoshida composition\n",
    "\n",
    "from sympint import sequence\n",
    "\n",
    "# Implicit midpoint integrator\n",
    "\n",
    "from sympint import midpoint\n",
    "\n",
    "# Plotting\n",
    "\n",
    "from matplotlib import pyplot as plt"
   ]
  },
  {
   "cell_type": "code",
   "execution_count": 3,
   "id": "2bf563a3-3368-4499-8ce4-15879f80adb2",
   "metadata": {},
   "outputs": [],
   "source": [
    "# Set data type\n",
    "\n",
    "jax.config.update(\"jax_enable_x64\", True)"
   ]
  },
  {
   "cell_type": "code",
   "execution_count": 4,
   "id": "6c1c1a07-e0ef-4810-89a1-6aeb41a4779f",
   "metadata": {},
   "outputs": [],
   "source": [
    "# Set device\n",
    "\n",
    "device, *_ = jax.devices('cpu')\n",
    "jax.config.update('jax_default_device', device)"
   ]
  },
  {
   "cell_type": "code",
   "execution_count": 5,
   "id": "90a4cf19-bbcf-4937-ab1a-2323276b1af3",
   "metadata": {},
   "outputs": [
    {
     "name": "stdout",
     "output_type": "stream",
     "text": [
      "19\n"
     ]
    },
    {
     "data": {
      "text/plain": [
       "Array([ 0.09446052, -0.06067929], dtype=float64)"
      ]
     },
     "execution_count": 5,
     "metadata": {},
     "output_type": "execute_result"
    }
   ],
   "source": [
    "# Construct Yoshida composition step (multi-map integrator)\n",
    "\n",
    "# H = H1 + H2\n",
    "# H1 = 1/2 q**2 + 1/3 q**3 -> [q, p] -> [q, p - t*q - t*q**2]\n",
    "# H2 = 1/2 p**2            -> [q, p] -> [q + t*q, p]\n",
    "\n",
    "# Set mappings for sovable parts\n",
    "\n",
    "def fn(x, t):\n",
    "    q, p = x\n",
    "    return jax.numpy.stack([q, p - t*(q + q**2)])\n",
    "\n",
    "def gn(x, t):\n",
    "    q, p = x\n",
    "    return jax.numpy.stack([q + t*p, p])\n",
    "\n",
    "# Generate Yoshida sequence\n",
    "\n",
    "fs = sequence(0, 2, [fn, gn], merge=True)\n",
    "print(len(fs))\n",
    "\n",
    "# Generate folded step (sequence composition)\n",
    "\n",
    "integrator = fold(fs)\n",
    "\n",
    "# Set parameters\n",
    "\n",
    "dt = jax.numpy.array(0.01)\n",
    "x = jax.numpy.array([0.1, -0.05])\n",
    "\n",
    "# Compile several integration steps\n",
    "\n",
    "step = jit(nest(10, integrator))\n",
    "xa = step(x, dt)\n",
    "xa"
   ]
  },
  {
   "cell_type": "code",
   "execution_count": 6,
   "id": "82f230e7-fa5e-42c0-9cd5-315dded9d2aa",
   "metadata": {},
   "outputs": [
    {
     "name": "stdout",
     "output_type": "stream",
     "text": [
      "27.3 µs ± 905 ns per loop (mean ± std. dev. of 7 runs, 10,000 loops each)\n"
     ]
    }
   ],
   "source": [
    "%%timeit\n",
    "\n",
    "step(x, dt)"
   ]
  },
  {
   "cell_type": "code",
   "execution_count": 7,
   "id": "f0721be4-7eed-4e3a-83be-cb6d3dfcdbf3",
   "metadata": {},
   "outputs": [
    {
     "name": "stdout",
     "output_type": "stream",
     "text": [
      "9\n"
     ]
    },
    {
     "data": {
      "text/plain": [
       "Array([ 0.09446052, -0.06067929], dtype=float64)"
      ]
     },
     "execution_count": 7,
     "metadata": {},
     "output_type": "execute_result"
    }
   ],
   "source": [
    "# Construct Yoshida composition step (implicit midpoint)\n",
    "\n",
    "# Define hamiltonian function\n",
    "\n",
    "def h(q, p, t, *args):\n",
    "    return jax.numpy.sum(1/2*(q**2 + p**2) + 1/3*q**3)\n",
    "\n",
    "# Define implicit step\n",
    "\n",
    "integrator = midpoint(h, ns=1)\n",
    "\n",
    "# Generate Yoshida sequence\n",
    "\n",
    "fs = sequence(0, 2, [integrator], merge=False)\n",
    "print(len(fs))\n",
    "\n",
    "# Generate folded step (sequence composition)\n",
    "\n",
    "integrator = fold(fs)\n",
    "\n",
    "# Set parameters\n",
    "\n",
    "dt = jax.numpy.array(0.01)\n",
    "t = jax.numpy.array(0.0)\n",
    "x = jax.numpy.array([0.1, -0.05])\n",
    "\n",
    "# Compile several steps\n",
    "\n",
    "step = jit(nest(10, integrator))\n",
    "xb = step(x, dt, t)\n",
    "xb"
   ]
  },
  {
   "cell_type": "code",
   "execution_count": 8,
   "id": "838bf5ef-51ee-4212-834d-cc6c3993776d",
   "metadata": {},
   "outputs": [
    {
     "name": "stdout",
     "output_type": "stream",
     "text": [
      "262 µs ± 3.87 µs per loop (mean ± std. dev. of 7 runs, 1,000 loops each)\n"
     ]
    }
   ],
   "source": [
    "%%timeit\n",
    "\n",
    "# Timing\n",
    "\n",
    "step(x, dt, t)"
   ]
  },
  {
   "cell_type": "code",
   "execution_count": 9,
   "id": "ab2c2135-9394-4579-935a-18ede7d48dd8",
   "metadata": {},
   "outputs": [
    {
     "data": {
      "text/plain": [
       "Array(True, dtype=bool)"
      ]
     },
     "execution_count": 9,
     "metadata": {},
     "output_type": "execute_result"
    }
   ],
   "source": [
    "# Compare\n",
    "\n",
    "jax.numpy.isclose(jax.numpy.linalg.norm(xa - xb), 0.0)"
   ]
  },
  {
   "cell_type": "code",
   "execution_count": 10,
   "id": "d39e94a7-351c-4e65-bc3a-76c8a74c9f9d",
   "metadata": {},
   "outputs": [
    {
     "data": {
      "image/png": "[encoded data removed]",
      "text/plain": [
       "<Figure size 800x800 with 1 Axes>"
      ]
     },
     "metadata": {},
     "output_type": "display_data"
    }
   ],
   "source": [
    "# Plot several phase space trajectories\n",
    "\n",
    "# Define single orbit generator \n",
    "\n",
    "orbit = jit(nest_list(2**10, step))\n",
    "orbit(x, dt, t)\n",
    "\n",
    "# Generate several orbits\n",
    "\n",
    "qs = jax.numpy.linspace(0.0, 0.5, 21)\n",
    "ps = jax.numpy.zeros_like(qs)\n",
    "xs = jax.numpy.stack([qs, ps]).T\n",
    "\n",
    "trajectories = vmap(orbit, (0, None, None))(xs, dt, t)\n",
    "\n",
    "# Plot orbits\n",
    "\n",
    "plt.figure(figsize=(8, 8))\n",
    "for trajectory in trajectories:\n",
    "    plt.scatter(*trajectory.T, color='black', marker='o', s=1)\n",
    "plt.show()"
   ]
  },
  {
   "cell_type": "code",
   "execution_count": 11,
   "id": "1bec6d63-276e-4875-9d89-e0d645716957",
   "metadata": {},
   "outputs": [
    {
     "data": {
      "text/plain": [
       "Array([[ 0.99994002,  0.0099998 ],\n",
       "       [-0.01199472,  0.99994003]], dtype=float64)"
      ]
     },
     "execution_count": 11,
     "metadata": {},
     "output_type": "execute_result"
    }
   ],
   "source": [
    "# Implicit step is differentiable with respect to initial condition and parameters\n",
    "\n",
    "jax.jacrev(integrator)(x, dt, t)"
   ]
  },
  {
   "cell_type": "code",
   "execution_count": 12,
   "id": "9d3ee266-57f2-4787-b69b-908b41108aff",
   "metadata": {},
   "outputs": [],
   "source": [
    "# Batched evaluation with vectorized map"
   ]
  },
  {
   "cell_type": "code",
   "execution_count": 13,
   "id": "c6380db5-022e-49fe-baf5-1e8cdaec50f4",
   "metadata": {},
   "outputs": [
    {
     "name": "stdout",
     "output_type": "stream",
     "text": [
      "CPU times: user 5.64 s, sys: 9.39 ms, total: 5.65 s\n",
      "Wall time: 5.55 s\n"
     ]
    },
    {
     "data": {
      "text/plain": [
       "(21, 1024, 2)"
      ]
     },
     "execution_count": 13,
     "metadata": {},
     "output_type": "execute_result"
    }
   ],
   "source": [
    "%%time\n",
    "\n",
    "jax.numpy.stack([orbit(x, dt, t) for x in xs]).shape"
   ]
  },
  {
   "cell_type": "code",
   "execution_count": 14,
   "id": "d1c1c70b-4732-4d59-b24d-6a7dd07df10a",
   "metadata": {},
   "outputs": [
    {
     "name": "stdout",
     "output_type": "stream",
     "text": [
      "CPU times: user 1.08 ms, sys: 11 µs, total: 1.09 ms\n",
      "Wall time: 933 µs\n"
     ]
    },
    {
     "data": {
      "text/plain": [
       "(21, 1024, 2)"
      ]
     },
     "execution_count": 14,
     "metadata": {},
     "output_type": "execute_result"
    }
   ],
   "source": [
    "%%time\n",
    "\n",
    "vmap(orbit, (0, None, None))(xs, dt, t).shape"
   ]
  },
  {
   "cell_type": "code",
   "execution_count": 15,
   "id": "13b4e0b9-0010-495f-96a2-c52b55b6b911",
   "metadata": {},
   "outputs": [
    {
     "data": {
      "text/plain": [
       "(21, 1024, 2)"
      ]
     },
     "execution_count": 15,
     "metadata": {},
     "output_type": "execute_result"
    }
   ],
   "source": [
    "# Compile\n",
    "# Note, changing batch size will trigger a recompile\n",
    "\n",
    "fj = jit(vmap(orbit, (0, None, None)))\n",
    "fj(xs, dt, t).shape"
   ]
  },
  {
   "cell_type": "code",
   "execution_count": 16,
   "id": "6b5e15f8-5cbe-4bed-9a6d-9796df0eec15",
   "metadata": {},
   "outputs": [
    {
     "name": "stdout",
     "output_type": "stream",
     "text": [
      "CPU times: user 1.36 ms, sys: 0 ns, total: 1.36 ms\n",
      "Wall time: 317 µs\n"
     ]
    },
    {
     "data": {
      "text/plain": [
       "(21, 1024, 2)"
      ]
     },
     "execution_count": 16,
     "metadata": {},
     "output_type": "execute_result"
    }
   ],
   "source": [
    "%%time\n",
    "\n",
    "fj(xs, dt, t).shape"
   ]
  }
 ],
 "metadata": {
  "colab": {
   "collapsed_sections": [
    "myt0_gMIOq7b",
    "5d97819c"
   ],
   "name": "03_frequency.ipynb",
   "provenance": []
  },
  "kernelspec": {
   "display_name": "Python 3 (ipykernel)",
   "language": "python",
   "name": "python3"
  },
  "language_info": {
   "codemirror_mode": {
    "name": "ipython",
    "version": 3
   },
   "file_extension": ".py",
   "mimetype": "text/x-python",
   "name": "python",
   "nbconvert_exporter": "python",
   "pygments_lexer": "ipython3",
   "version": "3.12.1"
  },
  "latex_envs": {
   "LaTeX_envs_menu_present": true,
   "autoclose": false,
   "autocomplete": true,
   "bibliofile": "biblio.bib",
   "cite_by": "apalike",
   "current_citInitial": 1,
   "eqLabelWithNumbers": true,
   "eqNumInitial": 1,
   "hotkeys": {
    "equation": "Ctrl-E",
    "itemize": "Ctrl-I"
   },
   "labels_anchors": false,
   "latex_user_defs": false,
   "report_style_numbering": false,
   "user_envs_cfg": false
  }
 },
 "nbformat": 4,
 "nbformat_minor": 5
}
